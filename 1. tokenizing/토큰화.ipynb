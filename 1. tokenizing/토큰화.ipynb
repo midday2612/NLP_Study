{
 "cells": [
  {
   "cell_type": "markdown",
   "id": "119ae189",
   "metadata": {},
   "source": [
    "### 1. 단어 토큰화"
   ]
  },
  {
   "cell_type": "markdown",
   "id": "c734f4cb",
   "metadata": {},
   "source": [
    "단어 토큰화: 토큰의 기준을 단어(word)로 하는 경우\n",
    "    단, 단어(word)는 단어 단위 외에도 단어구, 의미를 갖는 문자열로 간주되기도 함"
   ]
  },
  {
   "cell_type": "markdown",
   "id": "45b2fc87",
   "metadata": {},
   "source": [
    "### 2. 토큰화 중 생기는 선택의 순간"
   ]
  },
  {
   "cell_type": "code",
   "execution_count": 4,
   "id": "adf6a9d3",
   "metadata": {},
   "outputs": [],
   "source": [
    "from nltk.tokenize import word_tokenize\n",
    "from nltk.tokenize import WordPunctTokenizer\n",
    "from tensorflow.keras.preprocessing.text import text_to_word_sequence"
   ]
  },
  {
   "cell_type": "code",
   "execution_count": 19,
   "id": "a9bd911e",
   "metadata": {},
   "outputs": [
    {
     "name": "stdout",
     "output_type": "stream",
     "text": [
      "단어 토큰화1 : ['Do', \"n't\", 'be', 'fooled', 'by', 'the', 'dark', 'sounding', 'name', ',', 'Mr.', 'Jone', \"'s\", 'Orphanage', 'is', 'as', 'cheery', 'as', 'cheery', 'goes', 'for', 'a', 'pastry', 'shop', '.']\n"
     ]
    }
   ],
   "source": [
    "#word_tokenize\n",
    "print('단어 토큰화1 :',word_tokenize(\"Don't be fooled by the dark sounding name, Mr. Jone's Orphanage is as cheery as cheery goes for a pastry shop.\"))"
   ]
  },
  {
   "cell_type": "markdown",
   "id": "fbaef442",
   "metadata": {},
   "source": [
    "단어 토큰화1 : ['Do', \"n't\", 'be', 'fooled', 'by', 'the', 'dark', 'sounding', 'name', ',', 'Mr.', 'Jone', \"'s\", 'Orphanage', 'is', 'as', 'cheery', 'as', 'cheery', 'goes', 'for', 'a', 'pastry', 'shop', '.']\n",
    "Don't는 Do와 n't로 분리, Jone's는 Jone과 's로 분리"
   ]
  },
  {
   "cell_type": "code",
   "execution_count": 15,
   "id": "c0d7d5e8",
   "metadata": {
    "scrolled": true
   },
   "outputs": [
    {
     "name": "stdout",
     "output_type": "stream",
     "text": [
      "단어 토큰화2 : ['Don', \"'\", 't', 'be', 'fooled', 'by', 'the', 'dark', 'sounding', 'name', ',', 'Mr', '.', 'Jone', \"'\", 's', 'Orphanage', 'is', 'as', 'cheery', 'as', 'cheery', 'goes', 'for', 'a', 'pastry', 'shop', '.']\n"
     ]
    },
    {
     "data": {
      "text/plain": [
       "'\\n단어 토큰화2 : [\\'Don\\', \"\\'\", \\'t\\', \\'be\\', \\'fooled\\', \\'by\\', \\'the\\', \\'dark\\', \\'sounding\\', \\'name\\', \\',\\', \\'Mr\\', \\'.\\', \\'Jone\\', \"\\'\", \\'s\\', \\'Orphanage\\', \\'is\\', \\'as\\', \\'cheery\\', \\'as\\', \\'cheery\\', \\'goes\\', \\'for\\', \\'a\\', \\'pastry\\', \\'shop\\', \\'.\\']\\nWordPunctionTokenizer-구두점을 별도로 분류하는 특징\\nDon\\'t를 Don과 \\'와 t로 분리\\nJone\\'s를 Jone와 \\'와 s로 분리\\n'"
      ]
     },
     "execution_count": 15,
     "metadata": {},
     "output_type": "execute_result"
    }
   ],
   "source": [
    "# WordPunctTokenizer\n",
    "print('단어 토큰화2 :',WordPunctTokenizer().tokenize(\"Don't be fooled by the dark sounding name, Mr. Jone's Orphanage is as cheery as cheery goes for a pastry shop.\"))"
   ]
  },
  {
   "cell_type": "markdown",
   "id": "73895e45",
   "metadata": {},
   "source": [
    "단어 토큰화2 : ['Don', \"'\", 't', 'be', 'fooled', 'by', 'the', 'dark', 'sounding', 'name', ',', 'Mr', '.', 'Jone', \"'\", 's', 'Orphanage', 'is', 'as', 'cheery', 'as', 'cheery', 'goes', 'for', 'a', 'pastry', 'shop', '.']\n",
    "WordPunctionTokenizer-구두점을 별도로 분류하는 특징\n",
    "Don't를 Don과 '와 t로 분리\n",
    "Jone's를 Jone와 '와 s로 분리"
   ]
  },
  {
   "cell_type": "code",
   "execution_count": 21,
   "id": "e2c2a6f1",
   "metadata": {},
   "outputs": [
    {
     "name": "stdout",
     "output_type": "stream",
     "text": [
      "단어 토큰화3 : [\"don't\", 'be', 'fooled', 'by', 'the', 'dark', 'sounding', 'name', 'mr', \"jone's\", 'orphanage', 'is', 'as', 'cheery', 'as', 'cheery', 'goes', 'for', 'a', 'pastry', 'shop']\n"
     ]
    }
   ],
   "source": [
    "# text_to_word_sequence\n",
    "print('단어 토큰화3 :',text_to_word_sequence(\"Don't be fooled by the dark sounding name, Mr. Jone's Orphanage is as cheery as cheery goes for a pastry shop.\"))"
   ]
  },
  {
   "cell_type": "markdown",
   "id": "f3af7e50",
   "metadata": {},
   "source": [
    "단어 토큰화3 : [\"don't\", 'be', 'fooled', 'by', 'the', 'dark', 'sounding', 'name', 'mr', \"jone's\", 'orphanage', 'is', 'as', 'cheery', 'as', 'cheery', 'goes', 'for', 'a', 'pastry', 'shop']\n",
    "모든 알파벳을 소문자로 바꾸면서 마침표나 컴마, 느낌표 등의 구두점을 제거\n",
    "don't나 jone's와 같은 경우 아포스트로피 보존"
   ]
  },
  {
   "cell_type": "markdown",
   "id": "54e50542",
   "metadata": {},
   "source": [
    "### 3. 토큰화 고려사항"
   ]
  },
  {
   "cell_type": "markdown",
   "id": "697ce8df",
   "metadata": {},
   "source": [
    "토큰화 작업은 단순히 구두점을 제외하고 공백 기준으로 잘라내는 작업이라고 간주할 수 없음\n",
    "1) 구두점이나 특수 문자를 단순 제외해서는 안됨\n",
    "-마침표(.)는 문장의 경계를 알 수 있는 데 도움이 됨\n",
    "-단어 자체에 구두점을 갖고 있는 경우\n",
    "    * m.p.h Ph.D AT&T    \n",
    "    * $45.55    \n",
    "    * 01/02/06    \n",
    "    * 123,456,789\n",
    "2) 줄임말과 단어 내에 띄어쓰기가 있는 경우\n",
    "-아포스트로피(')는 압축된 단어를 다시 펼치는 역할\n",
    "    * what're은 what are의 줄임말, we're은 we are의 줄임말\n",
    "    * 위의 예시에서 re를 접어(clitic)이라고 함\n",
    "-하나의 단어 중간에 띄어쓰기가 존재하는 경우 하나로 인식하는 능력 필요\n",
    "    *New York, rock 'n' roll\n",
    "3) 표준 토큰화 예제\n",
    "-Penn Treebank\n",
    "    규칙 1. 하이푼으로 구성된 단어는 하나로 유지한다.\n",
    "    규칙 2. doesn't와 같이 아포스트로피로 '접어'가 함께하는 단어는 분리해준다."
   ]
  },
  {
   "cell_type": "code",
   "execution_count": 22,
   "id": "df0d36ee",
   "metadata": {},
   "outputs": [
    {
     "name": "stdout",
     "output_type": "stream",
     "text": [
      "트리뱅크 워드토크나이저 : ['Starting', 'a', 'home-based', 'restaurant', 'may', 'be', 'an', 'ideal.', 'it', 'does', \"n't\", 'have', 'a', 'food', 'chain', 'or', 'restaurant', 'of', 'their', 'own', '.']\n"
     ]
    }
   ],
   "source": [
    "from nltk.tokenize import TreebankWordTokenizer\n",
    "\n",
    "tokenizer = TreebankWordTokenizer()\n",
    "\n",
    "text = \"Starting a home-based restaurant may be an ideal. it doesn't have a food chain or restaurant of their own.\"\n",
    "print('트리뱅크 워드토크나이저 :',tokenizer.tokenize(text))"
   ]
  },
  {
   "cell_type": "markdown",
   "id": "89dc1c16",
   "metadata": {},
   "source": [
    "트리뱅크 워드토크나이저 : ['Starting', 'a', 'home-based', 'restaurant', 'may', 'be', 'an', 'ideal.', 'it', 'does', \"n't\", 'have', 'a', 'food', 'chain', 'or', 'restaurant', 'of', 'their', 'own', '.']\n",
    "\n",
    "home-based는 하나의 토큰으로 취급\n",
    "dosen't는 does와 n't로 분리"
   ]
  },
  {
   "cell_type": "markdown",
   "id": "e2f78090",
   "metadata": {},
   "source": [
    "### 4. 문장 토큰화(Sentence Tokenization)"
   ]
  },
  {
   "cell_type": "markdown",
   "id": "0ebda52a",
   "metadata": {},
   "source": [
    "문장 분류(sentence segmentation): 코퍼스 내에서 문장 단위로 구분하는 작업\n",
    "*!나 ?는 꽤 명확한 구분자 역할을 하지만 마침표는 문장의 끝이 아니더라도 등장할 수 있음"
   ]
  },
  {
   "cell_type": "code",
   "execution_count": 29,
   "id": "c3126144",
   "metadata": {},
   "outputs": [
    {
     "name": "stdout",
     "output_type": "stream",
     "text": [
      "문장 토큰화1 : ['His barber kept his word.', 'But keeping such a huge secret to himself was driving him crazy.', 'Finally, the barber went up a mountain and almost to the edge of a cliff.', 'He dug a hole in the midst of some reeds.', 'He looked about, to make sure no one was near.']\n",
      "문장 토큰화2 : ['I am actively looking for Ph.D. students.', 'and you are a Ph.D student.']\n"
     ]
    }
   ],
   "source": [
    "#영어 문장의 토큰화를 수행하는 sent_tokenize\n",
    "from nltk.tokenize import sent_tokenize\n",
    "\n",
    "text = \"His barber kept his word. But keeping such a huge secret to himself was driving him crazy. Finally, the barber went up a mountain and almost to the edge of a cliff. He dug a hole in the midst of some reeds. He looked about, to make sure no one was near.\"\n",
    "print('문장 토큰화1 :',sent_tokenize(text))\n",
    "\n",
    "text = \"I am actively looking for Ph.D. students. and you are a Ph.D student.\"\n",
    "print('문장 토큰화2 :',sent_tokenize(text))\n"
   ]
  },
  {
   "cell_type": "markdown",
   "id": "089185ca",
   "metadata": {},
   "source": [
    "문장 토큰화1 : ['His barber kept his word.', 'But keeping such a huge secret to himself was driving him crazy.', 'Finally, the barber went up a mountain and almost to the edge of a cliff.', 'He dug a hole in the midst of some reeds.', 'He looked about, to make sure no one was near.']\n",
    "문장 토큰화2 : ['I am actively looking for Ph.D. students.', 'and you are a Ph.D student.']\n",
    "\n",
    "단순히 마침표를 구분자로 하여 문장을 구분하지 않았기 때문에, Ph.D.를 문장 내의 단어로 인식하여 성공적으로 인식"
   ]
  },
  {
   "cell_type": "code",
   "execution_count": 1,
   "id": "e9a4a876",
   "metadata": {},
   "outputs": [
    {
     "name": "stdout",
     "output_type": "stream",
     "text": [
      "Collecting kss\n",
      "  Using cached kss-4.5.3.tar.gz (78 kB)\n",
      "  Preparing metadata (setup.py): started\n",
      "  Preparing metadata (setup.py): finished with status 'error'\n",
      "Note: you may need to restart the kernel to use updated packages.\n"
     ]
    },
    {
     "name": "stderr",
     "output_type": "stream",
     "text": [
      "  ERROR: Error [WinError 225] 파일에 바이러스 또는 기타 사용자 동의 없이 설치된 소프트웨어가 있기 때문에 작업이 완료되지 않았습니다 while executing command python setup.py egg_info\n",
      "ERROR: Could not install packages due to an OSError: [WinError 225] 파일에 바이러스 또는 기타 사용자 동의 없이 설치된 소프트웨어가 있기 때문에 작업이 완료되지 않았습니다\n",
      "\n"
     ]
    }
   ],
   "source": [
    "pip install kss"
   ]
  }
 ],
 "metadata": {
  "kernelspec": {
   "display_name": "Python 3 (ipykernel)",
   "language": "python",
   "name": "python3"
  },
  "language_info": {
   "codemirror_mode": {
    "name": "ipython",
    "version": 3
   },
   "file_extension": ".py",
   "mimetype": "text/x-python",
   "name": "python",
   "nbconvert_exporter": "python",
   "pygments_lexer": "ipython3",
   "version": "3.10.11"
  }
 },
 "nbformat": 4,
 "nbformat_minor": 5
}
